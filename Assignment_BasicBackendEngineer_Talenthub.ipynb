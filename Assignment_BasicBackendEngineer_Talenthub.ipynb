{
  "nbformat": 4,
  "nbformat_minor": 0,
  "metadata": {
    "colab": {
      "provenance": [],
      "authorship_tag": "ABX9TyNupyXgSQDKXLL3CjOWaF2b",
      "include_colab_link": true
    },
    "kernelspec": {
      "name": "python3",
      "display_name": "Python 3"
    },
    "language_info": {
      "name": "python"
    }
  },
  "cells": [
    {
      "cell_type": "markdown",
      "metadata": {
        "id": "view-in-github",
        "colab_type": "text"
      },
      "source": [
        "<a href=\"https://colab.research.google.com/github/Vadlin/Python_TalentHub/blob/main/Assignment_BasicBackendEngineer_Talenthub.ipynb\" target=\"_parent\"><img src=\"https://colab.research.google.com/assets/colab-badge.svg\" alt=\"Open In Colab\"/></a>"
      ]
    },
    {
      "cell_type": "code",
      "execution_count": 1,
      "metadata": {
        "colab": {
          "base_uri": "https://localhost:8080/"
        },
        "id": "y2M2L-ZmRHNK",
        "outputId": "c23454aa-2f8c-4793-f108-d2573654343e"
      },
      "outputs": [
        {
          "output_type": "stream",
          "name": "stdout",
          "text": [
            "20.0 Celsius sama dengan 293.15 Kelvin\n",
            "293.15 Kelvin sama dengan 20.00 Celsius\n",
            "20.0 Celsius sama dengan 68.00 Fahrenheit\n",
            "68.0 Fahrenheit sama dengan 20.00 Celsius\n"
          ]
        }
      ],
      "source": [
        "#Muhammad Vadlin Akbar\n",
        "#Date : 18 November 2023\n",
        "#Basic Backend Engineer\n",
        "\n",
        "class SuhuConv:\n",
        "    def __init__(self, temperature, scale):\n",
        "        self.temperature = temperature\n",
        "        self.scale = scale.lower()\n",
        "\n",
        "    def convert(self, to_scale):\n",
        "        if self.scale == 'celsius' and to_scale == 'kelvin':\n",
        "            return self.celsius_to_kelvin()\n",
        "        elif self.scale == 'kelvin' and to_scale == 'celsius':\n",
        "            return self.kelvin_to_celsius()\n",
        "        elif self.scale == 'celsius' and to_scale == 'fahrenheit':\n",
        "            return self.celsius_to_fahrenheit()\n",
        "        elif self.scale == 'fahrenheit' and to_scale == 'celsius':\n",
        "            return self.fahrenheit_to_celsius()\n",
        "        else:\n",
        "            raise ValueError(\"Konversi gagal\")\n",
        "\n",
        "    def celsius_to_kelvin(self):\n",
        "        kelvin = self.temperature + 273.15\n",
        "        return kelvin\n",
        "\n",
        "    def kelvin_to_celsius(self):\n",
        "        celsius = self.temperature - 273.15\n",
        "        return celsius\n",
        "\n",
        "    def celsius_to_fahrenheit(self):\n",
        "        fahrenheit = (self.temperature * 9/5) + 32\n",
        "        return fahrenheit\n",
        "\n",
        "    def fahrenheit_to_celsius(self):\n",
        "        celsius = (self.temperature - 32) * 5/9\n",
        "        return celsius\n",
        "\n",
        "# value dari suhu:\n",
        "suhu_celsius = 20.0\n",
        "\n",
        "# Konversi dari Celsius ke Kelvin\n",
        "konverter_celsius_ke_kelvin = SuhuConv(suhu_celsius, 'celsius')\n",
        "hasil_celsius_ke_kelvin = konverter_celsius_ke_kelvin.convert('kelvin')\n",
        "\n",
        "print(f\"{suhu_celsius} Celsius sama dengan {hasil_celsius_ke_kelvin:.2f} Kelvin\")\n",
        "\n",
        "# Konversi dari Kelvin ke Celsius mengambil hasil dari kelvin\n",
        "konverter_kelvin_ke_celsius = SuhuConv(hasil_celsius_ke_kelvin, 'kelvin')\n",
        "hasil_kelvin_ke_celsius = konverter_kelvin_ke_celsius.convert('celsius')\n",
        "\n",
        "print(f\"{hasil_celsius_ke_kelvin:.2f} Kelvin sama dengan {hasil_kelvin_ke_celsius:.2f} Celsius\")\n",
        "\n",
        "# Konversi dari Celsius ke Fahrenheit mengambil hasil dari celsius\n",
        "konverter_celsius_ke_fahrenheit = SuhuConv(suhu_celsius, 'celsius')\n",
        "hasil_celsius_ke_fahrenheit = konverter_celsius_ke_fahrenheit.convert('fahrenheit')\n",
        "\n",
        "print(f\"{suhu_celsius} Celsius sama dengan {hasil_celsius_ke_fahrenheit:.2f} Fahrenheit\")\n",
        "\n",
        "# Konversi dari Fahrenheit ke Celsius mengambil hasil dari farenheit\n",
        "konverter_fahrenheit_ke_celsius = SuhuConv(hasil_celsius_ke_fahrenheit, 'fahrenheit')\n",
        "hasil_fahrenheit_ke_celsius = konverter_fahrenheit_ke_celsius.convert('celsius')\n",
        "\n",
        "print(f\"{hasil_celsius_ke_fahrenheit} Fahrenheit sama dengan {hasil_fahrenheit_ke_celsius:.2f} Celsius\")\n"
      ]
    }
  ]
}