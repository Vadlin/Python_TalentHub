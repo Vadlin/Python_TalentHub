{
  "nbformat": 4,
  "nbformat_minor": 0,
  "metadata": {
    "kernelspec": {
      "display_name": "Python 3",
      "language": "python",
      "name": "python3"
    },
    "language_info": {
      "codemirror_mode": {
        "name": "ipython",
        "version": 3
      },
      "file_extension": ".py",
      "mimetype": "text/x-python",
      "name": "python",
      "nbconvert_exporter": "python",
      "pygments_lexer": "ipython3",
      "version": "3.8.2"
    },
    "toc": {
      "base_numbering": 1,
      "nav_menu": {},
      "number_sections": true,
      "sideBar": true,
      "skip_h1_title": false,
      "title_cell": "Table of Contents",
      "title_sidebar": "Contents",
      "toc_cell": false,
      "toc_position": {},
      "toc_section_display": true,
      "toc_window_display": false
    },
    "colab": {
      "name": "P0W1D3AM.ipynb",
      "provenance": [],
      "include_colab_link": true
    }
  },
  "cells": [
    {
      "cell_type": "markdown",
      "metadata": {
        "id": "view-in-github",
        "colab_type": "text"
      },
      "source": [
        "<a href=\"https://colab.research.google.com/github/Vadlin/Python_TalentHub/blob/main/Python_sesi3.ipynb\" target=\"_parent\"><img src=\"https://colab.research.google.com/assets/colab-badge.svg\" alt=\"Open In Colab\"/></a>"
      ]
    },
    {
      "cell_type": "markdown",
      "metadata": {
        "id": "NIC1E4wZwYBE"
      },
      "source": [
        "# Week 1: Day 3 AM // Python: Functions"
      ]
    },
    {
      "cell_type": "markdown",
      "metadata": {
        "id": "_AT0VcQbwYBG"
      },
      "source": [
        "## Python Function\n",
        "\n",
        "A function is a block of organized, **reusable code** that is used to perform a single, related action. Functions provide better modularity for your application and a high degree of code reusing.\n",
        "\n",
        "As you already know, Python gives you many built-in functions like `print()`, etc. but you can also create your own functions. These functions are called user-defined functions.\n",
        "\n",
        "### Defining a Function\n",
        "\n",
        "You can define functions to provide the required functionality. Here are simple rules to define a function in Python.\n",
        "\n",
        "* Function blocks begin with the keyword `def` followed by the function name and parentheses ( `( )` ).\n",
        "* Any input parameters or arguments should be placed within these parentheses. You can also define parameters inside these parentheses.\n",
        "* The first statement of a function can be an optional statement - the documentation string of the function or docstring.\n",
        "* The code block within every function starts with a colon (`:`) and is indented.\n",
        "* The statement return `[expression]` exits a function, optionally passing back an expression to the caller. A return statement with no arguments is the same as return None.\n",
        "\n",
        "```\n",
        "def function_name( parameters ):\n",
        "   '''docstring'''\n",
        "   statement(s)\n",
        "```\n",
        "\n",
        "By default, parameters have a positional behavior and you need to inform them in the same order that they were defined.\n",
        "\n",
        "The first string after the function header is called the docstring and is short for documentation string. It is used to explain in brief, what a function does.\n",
        "\n",
        "Although optional, documentation is a good programming practice. Unless you can remember what you had for dinner last week, always document your code.\n",
        "\n",
        "In the above example, we have a docstring immediately below the function header. We generally use triple quotes so that docstring can extend up to multiple lines. This string is available to us as `__doc__` attribute of the function."
      ]
    },
    {
      "cell_type": "code",
      "metadata": {
        "id": "6zdApKGqwYBL"
      },
      "source": [
        "# Example of Function Creation\n",
        "\n",
        "def my_function(p, l):\n",
        "    '''Function to calculate area of a square'''\n",
        "    print(p * l)\n",
        "\n",
        "\n",
        "def printme( str_input ):\n",
        "   '''This prints a passed string into this function'''\n",
        "   print(str_input)"
      ],
      "execution_count": null,
      "outputs": []
    },
    {
      "cell_type": "markdown",
      "metadata": {
        "id": "3KWLAfsgwYBV"
      },
      "source": [
        "### Calling a Function\n",
        "\n",
        "Defining a function only gives it a name, specifies the parameters that are to be included in the function and structures the blocks of code. Once the basic structure of a function is finalized, you can execute it by calling it from another function or directly from the Python prompt. The code below is the example to call `printme()` function."
      ]
    },
    {
      "cell_type": "code",
      "metadata": {
        "id": "1opi6MmnwYBW",
        "colab": {
          "base_uri": "https://localhost:8080/"
        },
        "outputId": "c9ff3174-6cbc-4986-f045-fd0eccd89fad"
      },
      "source": [
        "# Function definition is here\n",
        "def printme( str_input ):\n",
        "   '''This prints a passed string into this function'''\n",
        "   print(str_input)\n",
        "\n",
        "# Now you can call printme function\n",
        "printme(\"I'm first call to user defined function!\")\n",
        "printme(\"Again second call to the same function\")"
      ],
      "execution_count": null,
      "outputs": [
        {
          "output_type": "stream",
          "name": "stdout",
          "text": [
            "I'm first call to user defined function!\n",
            "Again second call to the same function\n"
          ]
        }
      ]
    },
    {
      "cell_type": "markdown",
      "metadata": {
        "id": "8OOn0UiewYBY"
      },
      "source": [
        "### Pass by reference vs value\n",
        "\n",
        "All parameters (arguments) in the Python language are passed by reference. It means if you change what a parameter refers to within a function, the change also reflects back in the calling function. For example"
      ]
    },
    {
      "cell_type": "code",
      "metadata": {
        "id": "MaI14tj7wYBa",
        "colab": {
          "base_uri": "https://localhost:8080/"
        },
        "outputId": "ef196fa4-6292-4075-9d8a-efa209991b5d"
      },
      "source": [
        "# Function definition is here\n",
        "def changeme( mylist ):\n",
        "   '''This changes a passed list into this function'''\n",
        "   mylist = mylist+[1,2,3,4]\n",
        "   print(\"\\nValues inside the function : \", mylist)\n",
        "   return mylist\n",
        "\n",
        "# Now you can call changeme function\n",
        "mylist = [10,20,30]\n",
        "print(\"\\nValues outside the function - before : \", mylist)\n",
        "mylist = changeme( mylist )\n",
        "print(\"\\nValues outside the function - after  : \", mylist)"
      ],
      "execution_count": null,
      "outputs": [
        {
          "output_type": "stream",
          "name": "stdout",
          "text": [
            "\n",
            "Values outside the function - before :  [10, 20, 30]\n",
            "\n",
            "Values inside the function :  [10, 20, 30, 1, 2, 3, 4]\n",
            "\n",
            "Values outside the function - after  :  [10, 20, 30, 1, 2, 3, 4]\n"
          ]
        }
      ]
    },
    {
      "cell_type": "markdown",
      "metadata": {
        "id": "25bU7I7ywYBc"
      },
      "source": [
        "There is one more example where argument is being passed by reference and the reference is being overwritten inside the called function."
      ]
    },
    {
      "cell_type": "code",
      "metadata": {
        "id": "qu_lZIgHwYBd",
        "colab": {
          "base_uri": "https://localhost:8080/"
        },
        "outputId": "6c1112d9-7265-47a8-c64b-332910813c3c"
      },
      "source": [
        "# Function definition is here\n",
        "def changeme( mylist ):\n",
        "   '''This changes a passed list into this function'''\n",
        "   mylist = [1, 2, 3, 4] # This would assign new reference in mylist\n",
        "   print(\"Values inside the function  : \", mylist)\n",
        "\n",
        "# Now you can call changeme function\n",
        "mylist = [10, 20, 30]\n",
        "changeme( mylist )\n",
        "print(\"Values outside the function : \", mylist)"
      ],
      "execution_count": null,
      "outputs": [
        {
          "output_type": "stream",
          "name": "stdout",
          "text": [
            "Values inside the function  :  [1, 2, 3, 4]\n",
            "Values outside the function :  [10, 20, 30]\n"
          ]
        }
      ]
    },
    {
      "cell_type": "markdown",
      "metadata": {
        "id": "zKwc30ZxwYBf"
      },
      "source": [
        "### Function Arguments\n",
        "\n",
        "You can call a function by using the following types of formal arguments −\n",
        "\n",
        "- Required arguments\n",
        "- Keyword arguments\n",
        "- Default arguments\n",
        "- Variable-length arguments"
      ]
    },
    {
      "cell_type": "markdown",
      "metadata": {
        "id": "O8XEMyLVVjra"
      },
      "source": [
        "#### **Required arguments**\n",
        "\n",
        "Required arguments are the arguments passed to a function in **correct positional order**. Here, the number of arguments in the function call should match exactly with the function definition.\n",
        "\n",
        "To call the function `printme()`, you definitely need to pass one argument, otherwise it gives a syntax error as follows."
      ]
    },
    {
      "cell_type": "code",
      "metadata": {
        "id": "7JNf0Kn6wYBg",
        "colab": {
          "base_uri": "https://localhost:8080/"
        },
        "outputId": "f5e3c3c1-818e-4086-b7b3-4735504b8999"
      },
      "source": [
        "# Function definition is here\n",
        "def printme( str_input ):\n",
        "   '''This prints a passed string into this function'''\n",
        "   print(str_input)\n",
        "\n",
        "# Now you can call printme function\n",
        "printme(\"Hello\")\n",
        "\n",
        "# # This syntax will give you an error\n",
        "# printme()"
      ],
      "execution_count": null,
      "outputs": [
        {
          "output_type": "stream",
          "name": "stdout",
          "text": [
            "Hello\n"
          ]
        }
      ]
    },
    {
      "cell_type": "markdown",
      "metadata": {
        "id": "hyDcKDhVUVUZ"
      },
      "source": [
        "One more example of required arguments. Let's create function that can calculate area of rectangle."
      ]
    },
    {
      "cell_type": "code",
      "metadata": {
        "colab": {
          "base_uri": "https://localhost:8080/"
        },
        "id": "v7WTfj0bUkcy",
        "outputId": "8e90759e-d219-4934-a5c8-dddcf824915f"
      },
      "source": [
        "# Function definition is here\n",
        "def calculate_rect(length, width):\n",
        "  '''This function is used to calculate area of rectangle'''\n",
        "  print('Area : ', length*width)\n",
        "\n",
        "# Define parameters\n",
        "length = 100\n",
        "width = 20\n",
        "\n",
        "# Call calculate_rect\n",
        "calculate_rect(length, width)\n",
        "\n",
        "# # This syntax will give you an error\n",
        "# calculate_rect(length)"
      ],
      "execution_count": null,
      "outputs": [
        {
          "output_type": "stream",
          "name": "stdout",
          "text": [
            "Area :  2000\n"
          ]
        }
      ]
    },
    {
      "cell_type": "markdown",
      "metadata": {
        "id": "VyDDpyJiwYBi"
      },
      "source": [
        "#### **Keyword Arguments**\n",
        "\n",
        "Keyword arguments are related to the function calls. When you use keyword arguments in a function call, the caller **identifies the arguments by the parameter name**.\n",
        "\n",
        "This allows you to **skip arguments or place them out of order** because the Python interpreter is able to use the keywords provided to match the values with parameters. You can also make keyword calls to the `printme()` function in the following ways.\n"
      ]
    },
    {
      "cell_type": "code",
      "metadata": {
        "id": "EBtfAm5FwYBj",
        "colab": {
          "base_uri": "https://localhost:8080/"
        },
        "outputId": "486ecbde-2236-4465-9ffc-6aebbe9c8bd3"
      },
      "source": [
        "# Function definition is here\n",
        "def printme( str_input ):\n",
        "   '''This prints a passed string into this function'''\n",
        "   print(str_input)\n",
        "\n",
        "# Now you can call printme function\n",
        "printme(str_input = \"Hacktiv8\")"
      ],
      "execution_count": null,
      "outputs": [
        {
          "output_type": "stream",
          "name": "stdout",
          "text": [
            "Hacktiv8\n"
          ]
        }
      ]
    },
    {
      "cell_type": "markdown",
      "metadata": {
        "id": "DLkgwa38wYBl"
      },
      "source": [
        "The following example gives more clear picture. Note that the order of parameters does not matter."
      ]
    },
    {
      "cell_type": "code",
      "metadata": {
        "id": "rbCjYTQVwYBm",
        "colab": {
          "base_uri": "https://localhost:8080/"
        },
        "outputId": "e353bc8a-9aac-4f9d-cadc-233f251d6cfa"
      },
      "source": [
        "# Function definition is here\n",
        "def printinfo( name, age ):\n",
        "   '''This prints a passed info into this function'''\n",
        "   print(\"Name : \", name)\n",
        "   print(\"Age. : \", age)\n",
        "\n",
        "# Now you can call printinfo function\n",
        "printinfo( age=4, name=\"a\" )"
      ],
      "execution_count": null,
      "outputs": [
        {
          "output_type": "stream",
          "name": "stdout",
          "text": [
            "Name :  a\n",
            "Age. :  4\n"
          ]
        }
      ]
    },
    {
      "cell_type": "markdown",
      "metadata": {
        "id": "Fa5H4CsQwYBo"
      },
      "source": [
        "#### **Default Arguments**\n",
        "\n",
        "A default argument is an argument that **assumes a default value if a value is not provided** in the function call for that argument. The following example gives an idea on default arguments, it prints default `age` if it is not passed."
      ]
    },
    {
      "cell_type": "code",
      "metadata": {
        "id": "3hxY489-wYBp",
        "colab": {
          "base_uri": "https://localhost:8080/"
        },
        "outputId": "5f7f4298-1094-4e5e-96ed-c690101960ca"
      },
      "source": [
        "# Function definition is here\n",
        "def printinfo( name, age = 26 ):\n",
        "   '''This prints a passed info into this function'''\n",
        "   print(\"Name : \", name)\n",
        "   print(\"Age  : \", age)\n",
        "   print(\"\")\n",
        "\n",
        "# Now you can call printinfo function\n",
        "printinfo( age=50, name=\"hacktiv8\" )\n",
        "printinfo( name=\"hacktiv\" )"
      ],
      "execution_count": null,
      "outputs": [
        {
          "output_type": "stream",
          "name": "stdout",
          "text": [
            "Name :  hacktiv8\n",
            "Age  :  50\n",
            "\n",
            "Name :  hacktiv\n",
            "Age  :  26\n",
            "\n"
          ]
        }
      ]
    },
    {
      "cell_type": "markdown",
      "metadata": {
        "id": "odr9gzLDXvFw"
      },
      "source": [
        "You must write default-arguments **after** required-argument\n",
        "\n",
        "Example :\n",
        "> `def printinfo(name, age=26):`\n",
        "\n",
        "NOT\n",
        "> `def printinfo(age=26, name):`"
      ]
    },
    {
      "cell_type": "code",
      "metadata": {
        "colab": {
          "base_uri": "https://localhost:8080/"
        },
        "id": "4vojZZnDWsbS",
        "outputId": "2438e200-afc5-466b-da10-71795fec7923"
      },
      "source": [
        "# Function definition is here\n",
        "def printinfo( name, age = 26 ):\n",
        "   '''This prints a passed info into this function'''\n",
        "   print(\"Name : \", name)\n",
        "   print(\"Age  : \", age)\n",
        "   print(\"\")\n",
        "\n",
        "# Now you can call printinfo function\n",
        "printinfo( age=50, name=\"hacktiv8\" )"
      ],
      "execution_count": null,
      "outputs": [
        {
          "output_type": "stream",
          "name": "stdout",
          "text": [
            "Name :  hacktiv8\n",
            "Age  :  50\n",
            "\n"
          ]
        }
      ]
    },
    {
      "cell_type": "code",
      "metadata": {
        "id": "VdJMfdANW1a4"
      },
      "source": [
        "# # Function definition is here\n",
        "# def printinfo( age = 26, name ):\n",
        "#    '''This prints a passed info into this function'''\n",
        "#    print(\"Name : \", name)\n",
        "#    print(\"Age  : \", age)\n",
        "#    print(\"\")\n",
        "\n",
        "# # Now you can call printinfo function\n",
        "# printinfo( age=50, name=\"hacktiv8\" )"
      ],
      "execution_count": null,
      "outputs": []
    },
    {
      "cell_type": "markdown",
      "metadata": {
        "id": "NEzZud0rwYBs"
      },
      "source": [
        "#### **Variable-length Arguments**\n",
        "\n",
        "You may need to process a function for **more arguments than you specified** while defining the function. These arguments are called variable-length arguments and are not named in the function definition, unlike required and default arguments.\n",
        "\n",
        "Syntax for a function with non-keyword variable arguments is this −\n",
        "\n",
        "```py\n",
        "def functionname(args, *var_args_tuple ):\n",
        "   '''function_docstring'''\n",
        "   function_suite\n",
        "   return [expression]\n",
        "```\n",
        "\n",
        "An asterisk (`*`) is placed before the variable name that holds the values of all nonkeyword variable arguments. All variable values in an asterisk, will be saved into a `tuple`. This `tuple` remains empty if no additional arguments are specified during the function call. The code below is a simple example."
      ]
    },
    {
      "cell_type": "code",
      "metadata": {
        "id": "e35VRFNfwYBt",
        "colab": {
          "base_uri": "https://localhost:8080/"
        },
        "outputId": "1f0d37f9-1e46-466b-aca1-70aeb0d88edb"
      },
      "source": [
        "# Function definition is here\n",
        "def printinfo( arg1, *vartuple ):\n",
        "# def printinfo(arg1, arg2, arg3, arg4):\n",
        "   '''This prints a variable passed arguments'''\n",
        "   print('arg1     : ', arg1)\n",
        "   print('vartuple : ', vartuple)\n",
        "   print('')\n",
        "\n",
        "   for var in vartuple:\n",
        "      print('isi vartuple : ', var)\n",
        "\n",
        "# Now you can call printinfo function\n",
        "printinfo( 10 )\n",
        "printinfo( 70, 60, 50, \"a\" )"
      ],
      "execution_count": null,
      "outputs": [
        {
          "output_type": "stream",
          "name": "stdout",
          "text": [
            "arg1     :  10\n",
            "vartuple :  ()\n",
            "\n",
            "arg1     :  70\n",
            "vartuple :  (60, 50, 'a')\n",
            "\n",
            "isi vartuple :  60\n",
            "isi vartuple :  50\n",
            "isi vartuple :  a\n"
          ]
        }
      ]
    },
    {
      "cell_type": "markdown",
      "metadata": {
        "id": "uXFZYCxKZIai"
      },
      "source": [
        "Variable-length Argument have two types.\n",
        "\n",
        "* `*` : All nonkeyword variables will be saved in a `tuple`.\n",
        "```py\n",
        "def functionname(args, *var_args_tuple ):\n",
        "   '''function_docstring'''\n",
        "   function_suite\n",
        "   return [expression]\n",
        "```\n",
        "\n",
        "* `**` : All nonkeyword variables will be saved in a `dict`.\n",
        "```py\n",
        "def functionname(args, **var_args_dict ):\n",
        "   '''function_docstring'''\n",
        "   function_suite\n",
        "   return [expression]\n",
        "```"
      ]
    },
    {
      "cell_type": "code",
      "metadata": {
        "colab": {
          "base_uri": "https://localhost:8080/"
        },
        "id": "ZSeg_P5__Mth",
        "outputId": "b3e96ffd-b509-40b6-b902-dd23c0aaaa2f"
      },
      "source": [
        "# Create a function with nonkeyword variables\n",
        "\n",
        "def person_car(total_data, **kwargs):\n",
        "  '''Create a function to print who owns what car'''\n",
        "  print('Total Data : ', total_data)\n",
        "  for key, value in kwargs.items():\n",
        "    print('Person : ', key)\n",
        "    print('Car    : ', value)\n",
        "    print('')\n",
        "\n",
        "person_car(3, jimmy='chevrolet', frank='ford', tina='honda')\n",
        "person_car(3)\n",
        "\n",
        "# Parameters (jimmy='chevrolet', frank='ford', tina='honda') will be equal to\n",
        "# kwargs = {\n",
        "#     'jimmy': 'chevrolet',\n",
        "#     'frank': 'ford',\n",
        "#     'tina': 'honda'\n",
        "# }"
      ],
      "execution_count": null,
      "outputs": [
        {
          "output_type": "stream",
          "name": "stdout",
          "text": [
            "Total Data :  3\n",
            "Person :  jimmy\n",
            "Car    :  chevrolet\n",
            "\n",
            "Person :  frank\n",
            "Car    :  ford\n",
            "\n",
            "Person :  tina\n",
            "Car    :  honda\n",
            "\n",
            "Total Data :  3\n"
          ]
        }
      ]
    },
    {
      "cell_type": "markdown",
      "metadata": {
        "id": "C72AESjfwYBv"
      },
      "source": [
        "### The Anonymous Functions\n",
        "\n",
        "These functions are called anonymous because they are not declared in the standard manner by using the `def` keyword. You can use the `lambda` keyword to create small anonymous functions.\n",
        "\n",
        "- `lambda` forms can take any number of arguments but return just one value in the form of an expression. They cannot contain commands or multiple expressions.\n",
        "- An anonymous function cannot be a direct call to `print` because `lambda` requires an expression\n",
        "- `lambda` functions have their own local namespace and cannot access variables other than those in their parameter list and those in the global namespace.\n",
        "\n",
        "The syntax of `lambda` functions contains only a single statement, which is as follows −\n",
        "\n",
        "`lambda [arg1 [,arg2,.....argn]]:expression`\n",
        "\n",
        "The code below is the example to show how `lambda` form of function works."
      ]
    },
    {
      "cell_type": "code",
      "metadata": {
        "id": "V1K6SPtKwYBx",
        "colab": {
          "base_uri": "https://localhost:8080/"
        },
        "outputId": "3def5224-a086-4d77-8fcc-7b19999f087d"
      },
      "source": [
        "# Function definition is here\n",
        "sum = lambda arg1, arg2: arg1 + arg2\n",
        "\n",
        "# That lambda function will be equal to :\n",
        "# def sum(arg1, arg2):\n",
        "#     return arg1+arg2\n",
        "\n",
        "# Now you can call sum as a function\n",
        "print(\"Value of total : \", sum( 10, 20 ))\n",
        "print(\"Value of total : \", sum( 20, 20 ))"
      ],
      "execution_count": null,
      "outputs": [
        {
          "output_type": "stream",
          "name": "stdout",
          "text": [
            "Value of total :  30\n",
            "Value of total :  40\n"
          ]
        }
      ]
    },
    {
      "cell_type": "markdown",
      "metadata": {
        "id": "tR0HAVaXwYBy"
      },
      "source": [
        "### The `return` Statement\n",
        "\n",
        "The statement `return [expression]` exits a function, optionally passing back an `expression` to the caller. A `return` statement with no arguments is the same as `return None`.\n",
        "\n",
        "All the above examples are not returning any value. You can return a value from a function as follows."
      ]
    },
    {
      "cell_type": "code",
      "metadata": {
        "id": "OVO-ksiqwYBz",
        "colab": {
          "base_uri": "https://localhost:8080/"
        },
        "outputId": "3141ef4c-24e7-4af9-f7ef-70dddc61c6ae"
      },
      "source": [
        "# Function definition is here\n",
        "def sum(arg1, arg2):\n",
        "    # Add both the parameters and return them.\"\n",
        "    total = arg1 + arg2\n",
        "    return total\n",
        "\n",
        "# Now you can call sum function\n",
        "total = sum(10, 20)\n",
        "print(\"Result function : \", total)"
      ],
      "execution_count": null,
      "outputs": [
        {
          "output_type": "stream",
          "name": "stdout",
          "text": [
            "Result function :  30\n"
          ]
        }
      ]
    },
    {
      "cell_type": "markdown",
      "metadata": {
        "id": "ngA2KhwbwYB0"
      },
      "source": [
        "### Scope of Variables\n",
        "\n",
        "All variables in a program may not be accessible at all locations in that program. This depends on where you have declared a variable.\n",
        "\n",
        "The scope of a variable determines the portion of the program where you can access a particular identifier. There are two basic scopes of variables in Python\n",
        "\n",
        "- Global variables\n",
        "- Local variables\n",
        "\n",
        "**Global vs. Local variables**\n",
        "\n",
        "Variables that are defined inside a function body have a local scope, and those defined outside have a global scope.\n",
        "\n",
        "This means that local variables can be accessed only inside the function in which they are declared, whereas global variables can be accessed throughout the program body by all functions. When you call a function, the variables declared inside it are brought into scope."
      ]
    },
    {
      "cell_type": "code",
      "metadata": {
        "id": "kWpz91yDwYB2",
        "colab": {
          "base_uri": "https://localhost:8080/"
        },
        "outputId": "357cc3d2-f035-4d91-dffe-49805bea82ce"
      },
      "source": [
        "# Declare a global variable\n",
        "total = 0\n",
        "\n",
        "# Create sum function\n",
        "def sum( arg1, arg2 ):\n",
        "   total = arg1 + arg2;\n",
        "   print(\"Inside the function local total   : \", total)\n",
        "\n",
        "# Call a function\n",
        "sum( 10, 20 )\n",
        "print(\"Outside the function global total : \", total)"
      ],
      "execution_count": null,
      "outputs": [
        {
          "output_type": "stream",
          "name": "stdout",
          "text": [
            "Inside the function local total   :  30\n",
            "Outside the function global total :  0\n"
          ]
        }
      ]
    },
    {
      "cell_type": "markdown",
      "metadata": {
        "id": "Xs7_QwE7jJJl"
      },
      "source": [
        "Let's check effect of `return` statement to the above code and pass it into the same-name variable. We will see that variable `total` has changed in global scope."
      ]
    },
    {
      "cell_type": "code",
      "metadata": {
        "colab": {
          "base_uri": "https://localhost:8080/"
        },
        "id": "taVGIsPojY90",
        "outputId": "eb317c85-7aa8-4e01-b90d-82c5ce0c9cb4"
      },
      "source": [
        "# Declare a global variable\n",
        "total = 0\n",
        "\n",
        "# Create sum function\n",
        "def sum( arg1, arg2 ):\n",
        "   total = arg1 + arg2;\n",
        "   print(\"Inside the function local total   : \", total)\n",
        "   return total\n",
        "\n",
        "# Call a function\n",
        "print(\"Outside the function global total - before : \", total)\n",
        "total = sum( 10, 20 )\n",
        "print(\"Outside the function global total - after  : \", total)"
      ],
      "execution_count": null,
      "outputs": [
        {
          "output_type": "stream",
          "name": "stdout",
          "text": [
            "Outside the function global total - before :  0\n",
            "Inside the function local total   :  30\n",
            "Outside the function global total - after  :  30\n"
          ]
        }
      ]
    },
    {
      "cell_type": "markdown",
      "metadata": {
        "id": "PYrBRpiwj30j"
      },
      "source": [
        "### Docstring\n",
        "\n",
        "A docstring is a string literal that occurs as the first statement in a module, function, class, or method definition. Such a docstring becomes the `__doc__` special attribute of that object.\n",
        "\n",
        "All modules should normally have docstrings, and all functions and classes exported by a module should also have docstrings.\n",
        "\n",
        "For consistency, always use '''triple single quotes''' or \"\"\"triple double-quotes\"\"\" around docstrings.\n",
        "\n",
        "There is no strict rules how to write the docstring. You can write the docstring as you like. For clear explanation, Docstring usually contains 3 parts :\n",
        "* Aims of a module, function, class, or method.\n",
        "* Description of input parameter with their types.\n",
        "* Description of output parameter (only if return something)."
      ]
    },
    {
      "cell_type": "code",
      "metadata": {
        "id": "8XPckCkhx_2p"
      },
      "source": [
        "# Example of docstring in a function\n",
        "\n",
        "def sum_number(num1, num2):\n",
        "  '''\n",
        "  This function is used to sum of 2 variables.\n",
        "  :param num1: Input number 1 | int or float\n",
        "  :param num2: Input number 2 | int or float\n",
        "\n",
        "  :return: num3: Sum of number | int or float\n",
        "  '''\n",
        "\n",
        "  num3 = num1 + num2\n",
        "  return num3"
      ],
      "execution_count": null,
      "outputs": []
    },
    {
      "cell_type": "code",
      "metadata": {
        "colab": {
          "base_uri": "https://localhost:8080/"
        },
        "id": "WECZpLi4lSsh",
        "outputId": "4c73561c-b09a-427a-ace2-ce57c77021cd"
      },
      "source": [
        "# Syntax to get explanation/docstring from a particular module/function/class\n",
        "\n",
        "print(sum_number.__doc__)"
      ],
      "execution_count": null,
      "outputs": [
        {
          "output_type": "stream",
          "name": "stdout",
          "text": [
            "\n",
            "  This function is used to sum of 2 variables.\n",
            "  :param num1: Input number 1 | int or float\n",
            "  :param num2: Input number 2 | int or float\n",
            "  \n",
            "  :return: num3: Sum of number | int or float\n",
            "  \n"
          ]
        }
      ]
    }
  ]
}