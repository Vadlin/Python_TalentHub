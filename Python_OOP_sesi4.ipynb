{
  "nbformat": 4,
  "nbformat_minor": 0,
  "metadata": {
    "colab": {
      "provenance": [],
      "toc_visible": true,
      "include_colab_link": true
    },
    "kernelspec": {
      "name": "python3",
      "display_name": "Python 3"
    },
    "language_info": {
      "name": "python"
    }
  },
  "cells": [
    {
      "cell_type": "markdown",
      "metadata": {
        "id": "view-in-github",
        "colab_type": "text"
      },
      "source": [
        "<a href=\"https://colab.research.google.com/github/Vadlin/Python_TalentHub/blob/main/Python_OOP_sesi4.ipynb\" target=\"_parent\"><img src=\"https://colab.research.google.com/assets/colab-badge.svg\" alt=\"Open In Colab\"/></a>"
      ]
    },
    {
      "cell_type": "markdown",
      "metadata": {
        "id": "dCeQ8Xq5AxM3"
      },
      "source": [
        "# Object-Oriented Programming (OOP) in Python\n",
        "\n",
        "Object-oriented programming (OOP) is a method of structuring a program by bundling related properties and behaviors into individual objects. In this tutorial, you’ll learn the basics of object-oriented programming in Python.\n",
        "\n",
        "Conceptually, objects are like the components of a system. Think of a program as a factory assembly line of sorts. At each step of the assembly line a system component processes some material, ultimately transforming raw material into a finished product.\n",
        "\n",
        "An object contains data, like the raw or preprocessed materials at each step on an assembly line, and behavior, like the action each assembly line component performs.\n",
        "\n",
        "## How to Define a Class\n",
        "\n",
        "All class definitions start with the class keyword, which is followed by the name of the class and a colon. Any code that is indented below the class definition is considered part of the class’s body.\n",
        "\n",
        "Here’s an example of a Dog class:"
      ]
    },
    {
      "cell_type": "code",
      "metadata": {
        "id": "e4HoYiPxU9fP"
      },
      "source": [
        "class Dog:\n",
        "    pass"
      ],
      "execution_count": null,
      "outputs": []
    },
    {
      "cell_type": "markdown",
      "metadata": {
        "id": "H-aC7INjA8m4"
      },
      "source": [
        "The body of the Dog class consists of a single statement: the pass keyword. pass is often used as a placeholder indicating where code will eventually go. It allows you to run this code without Python throwing an error.\n",
        "\n",
        "The Dog class isn’t very interesting right now, so let’s spruce it up a bit by defining some properties that all Dog objects should have. There are a number of properties that we can choose from, including name, age, coat color, and breed. To keep things simple, we’ll just use name and age.\n",
        "\n",
        "The properties that all Dog objects must have are defined in a method called .__init__(). Every time a new Dog object is created, .__init__() sets the initial state of the object by assigning the values of the object’s properties. That is, .__init__() initializes each new instance of the class.\n",
        "\n",
        "You can give .__init__() any number of parameters, but the first parameter will always be a variable called self. When a new class instance is created, the instance is automatically passed to the self parameter in .__init__() so that new attributes can be defined on the object.\n",
        "\n",
        "Let’s update the Dog class with an .__init__() method that creates .name and .age attributes:\n"
      ]
    },
    {
      "cell_type": "code",
      "metadata": {
        "id": "GRrjSopmA6oj"
      },
      "source": [
        "class Dog:\n",
        "    def __init__(self, name, age):\n",
        "        self.name = name\n",
        "        self.age = age"
      ],
      "execution_count": null,
      "outputs": []
    },
    {
      "cell_type": "markdown",
      "metadata": {
        "id": "zgMBpcUoBDHy"
      },
      "source": [
        "Notice that the .__init__() method’s signature is indented four spaces. The body of the method is indented by eight spaces. This indentation is vitally important. It tells Python that the .__init__() method belongs to the Dog class.\n",
        "\n",
        "In the body of .__init__(), there are two statements using the self variable:\n",
        "\n",
        "1. self.name = name creates an attribute called name and assigns to it the value of the name parameter.\n",
        "2. self.age = age creates an attribute called age and assigns to it the value of the age parameter.\n",
        "\n",
        "Attributes created in .__init__() are called instance attributes. An instance attribute’s value is specific to a particular instance of the class. All Dog objects have a name and an age, but the values for the name and age attributes will vary depending on the Dog instance.\n",
        "\n",
        "On the other hand, class attributes are attributes that have the same value for all class instances. You can define a class attribute by assigning a value to a variable name outside of .__init__().\n",
        "\n",
        "For example, the following Dog class has a class attribute called species with the value \"Canis familiaris\":"
      ]
    },
    {
      "cell_type": "code",
      "metadata": {
        "id": "l408etsuBBNz"
      },
      "source": [
        "class Dog:\n",
        "    # Class attribute\n",
        "    species = \"Canis familiaris\"\n",
        "\n",
        "    def __init__(self, name, age):\n",
        "        self.name = name\n",
        "        self.age = age"
      ],
      "execution_count": null,
      "outputs": []
    },
    {
      "cell_type": "markdown",
      "metadata": {
        "id": "D4MrY5rQBMXh"
      },
      "source": [
        "## Instantiate an Object in Python\n",
        "\n",
        "To instantiate objects of this Dog class, you need to provide values for the name and age. If you don’t, then Python raises a TypeError:"
      ]
    },
    {
      "cell_type": "code",
      "metadata": {
        "colab": {
          "base_uri": "https://localhost:8080/",
          "height": 164
        },
        "id": "KADAiM88BIxX",
        "outputId": "2c5c22cc-d746-460a-ac48-463ed3233848"
      },
      "source": [
        "Dog()"
      ],
      "execution_count": null,
      "outputs": [
        {
          "output_type": "error",
          "ename": "TypeError",
          "evalue": "ignored",
          "traceback": [
            "\u001b[0;31m---------------------------------------------------------------------------\u001b[0m",
            "\u001b[0;31mTypeError\u001b[0m                                 Traceback (most recent call last)",
            "\u001b[0;32m<ipython-input-4-2dced99f65a6>\u001b[0m in \u001b[0;36m<module>\u001b[0;34m()\u001b[0m\n\u001b[0;32m----> 1\u001b[0;31m \u001b[0mDog\u001b[0m\u001b[0;34m(\u001b[0m\u001b[0;34m)\u001b[0m\u001b[0;34m\u001b[0m\u001b[0;34m\u001b[0m\u001b[0m\n\u001b[0m",
            "\u001b[0;31mTypeError\u001b[0m: __init__() missing 2 required positional arguments: 'name' and 'age'"
          ]
        }
      ]
    },
    {
      "cell_type": "markdown",
      "metadata": {
        "id": "V3KAXpDGBW9J"
      },
      "source": [
        "To pass arguments to the name and age parameters, put values into the parentheses after the class name:"
      ]
    },
    {
      "cell_type": "code",
      "metadata": {
        "id": "k90HCqEBBUnV"
      },
      "source": [
        "buddy = Dog(\"Buddy\", 9)"
      ],
      "execution_count": null,
      "outputs": []
    },
    {
      "cell_type": "code",
      "metadata": {
        "id": "JF_jb9tpBaNV"
      },
      "source": [
        "miles = Dog(\"Miles\", 4)"
      ],
      "execution_count": null,
      "outputs": []
    },
    {
      "cell_type": "markdown",
      "metadata": {
        "id": "ZZXM-eJCBc4c"
      },
      "source": [
        "This creates two new Dog instances—one for a nine-year-old dog named Buddy and one for a four-year-old dog named Miles.\n",
        "\n",
        "The Dog class’s .__init__() method has three parameters, so why are only two arguments passed to it in the example?\n",
        "\n",
        "When you instantiate a Dog object, Python creates a new instance and passes it to the first parameter of .__init__(). This essentially removes the self parameter, so you only need to worry about the name and age parameters.\n",
        "\n",
        "After you create the Dog instances, you can access their instance attributes using dot notation:"
      ]
    },
    {
      "cell_type": "code",
      "metadata": {
        "colab": {
          "base_uri": "https://localhost:8080/",
          "height": 35
        },
        "id": "SyHt-nDrBbdv",
        "outputId": "4cc02d42-3740-4e30-ef44-46d732cdab0b"
      },
      "source": [
        "buddy.name"
      ],
      "execution_count": null,
      "outputs": [
        {
          "output_type": "execute_result",
          "data": {
            "application/vnd.google.colaboratory.intrinsic+json": {
              "type": "string"
            },
            "text/plain": [
              "'Buddy'"
            ]
          },
          "metadata": {},
          "execution_count": 7
        }
      ]
    },
    {
      "cell_type": "code",
      "metadata": {
        "colab": {
          "base_uri": "https://localhost:8080/"
        },
        "id": "O15VN1VjBesv",
        "outputId": "26a7acea-7dcd-4bb7-8224-4ec58c6f4107"
      },
      "source": [
        "buddy.age"
      ],
      "execution_count": null,
      "outputs": [
        {
          "output_type": "execute_result",
          "data": {
            "text/plain": [
              "9"
            ]
          },
          "metadata": {},
          "execution_count": 8
        }
      ]
    },
    {
      "cell_type": "code",
      "metadata": {
        "colab": {
          "base_uri": "https://localhost:8080/",
          "height": 35
        },
        "id": "QQy5nL3vBgE_",
        "outputId": "9868ef86-9959-45f9-ab52-4ac60d08224f"
      },
      "source": [
        "buddy.species"
      ],
      "execution_count": null,
      "outputs": [
        {
          "output_type": "execute_result",
          "data": {
            "application/vnd.google.colaboratory.intrinsic+json": {
              "type": "string"
            },
            "text/plain": [
              "'Canis familiaris'"
            ]
          },
          "metadata": {},
          "execution_count": 9
        }
      ]
    },
    {
      "cell_type": "markdown",
      "metadata": {
        "id": "lw9m2IVhBj_w"
      },
      "source": [
        "## Instance Methods\n",
        "\n",
        "Instance methods are functions that are defined inside a class and can only be called from an instance of that class. Just like .__init__(), an instance method’s first parameter is always self."
      ]
    },
    {
      "cell_type": "code",
      "metadata": {
        "id": "bi_xMHglBhVv"
      },
      "source": [
        "class Dog:\n",
        "    species = \"Canis familiaris\"\n",
        "\n",
        "    def __init__(self, name, age):\n",
        "        self.name = name\n",
        "        self.age = age\n",
        "\n",
        "    # Instance method\n",
        "    def description(self):\n",
        "        return f\"{self.name} is {self.age} years old\"\n",
        "\n",
        "    # Another instance method\n",
        "    def speak(self, sound):\n",
        "        return f\"{self.name} says {sound}\""
      ],
      "execution_count": null,
      "outputs": []
    },
    {
      "cell_type": "markdown",
      "metadata": {
        "id": "QCerv6i_BpC8"
      },
      "source": [
        "This Dog class has two instance methods:\n",
        "\n",
        "1. .description() returns a string displaying the name and age of the dog.\n",
        "2. .speak() has one parameter called sound and returns a string containing the dog’s name and the sound the dog makes."
      ]
    },
    {
      "cell_type": "code",
      "metadata": {
        "id": "tN7r6EOHBmzs"
      },
      "source": [
        "miles = Dog(\"Miles\", 4)"
      ],
      "execution_count": null,
      "outputs": []
    },
    {
      "cell_type": "code",
      "metadata": {
        "colab": {
          "base_uri": "https://localhost:8080/",
          "height": 35
        },
        "id": "IgIrBzpZBsNd",
        "outputId": "fd751e19-7a83-497f-d5d6-dc7fc6839c0b"
      },
      "source": [
        "miles.description()"
      ],
      "execution_count": null,
      "outputs": [
        {
          "output_type": "execute_result",
          "data": {
            "application/vnd.google.colaboratory.intrinsic+json": {
              "type": "string"
            },
            "text/plain": [
              "'Miles is 4 years old'"
            ]
          },
          "metadata": {},
          "execution_count": 12
        }
      ]
    },
    {
      "cell_type": "code",
      "metadata": {
        "colab": {
          "base_uri": "https://localhost:8080/",
          "height": 35
        },
        "id": "RtCZp-ZoBtVZ",
        "outputId": "7b8a37dd-2b01-44f4-dfc8-17578ca0cd4f"
      },
      "source": [
        "miles.speak(\"Woof Woof\")"
      ],
      "execution_count": null,
      "outputs": [
        {
          "output_type": "execute_result",
          "data": {
            "application/vnd.google.colaboratory.intrinsic+json": {
              "type": "string"
            },
            "text/plain": [
              "'Miles says Woof Woof'"
            ]
          },
          "metadata": {},
          "execution_count": 13
        }
      ]
    },
    {
      "cell_type": "code",
      "metadata": {
        "colab": {
          "base_uri": "https://localhost:8080/",
          "height": 35
        },
        "id": "1SlukUFqBu6n",
        "outputId": "8cbfe7ce-a9c9-4f57-cc94-ff3364a42e3f"
      },
      "source": [
        "miles.speak(\"Bow Wow\")"
      ],
      "execution_count": null,
      "outputs": [
        {
          "output_type": "execute_result",
          "data": {
            "application/vnd.google.colaboratory.intrinsic+json": {
              "type": "string"
            },
            "text/plain": [
              "'Miles says Bow Wow'"
            ]
          },
          "metadata": {},
          "execution_count": 14
        }
      ]
    },
    {
      "cell_type": "markdown",
      "metadata": {
        "id": "VRQ-F84lB9cn"
      },
      "source": [
        "## Inherit From Other Classes in Python\n",
        "\n",
        "Inheritance is the process by which one class takes on the attributes and methods of another. Newly formed classes are called child classes, and the classes that child classes are derived from are called parent classes.\n",
        "\n",
        "Child classes can override or extend the attributes and methods of parent classes. In other words, child classes inherit all of the parent’s attributes and methods but can also specify attributes and methods that are unique to themselves.\n",
        "\n",
        "Although the analogy isn’t perfect, you can think of object inheritance sort of like genetic inheritance.\n",
        "\n",
        "You may have inherited your hair color from your mother. It’s an attribute you were born with. Let’s say you decide to color your hair purple. Assuming your mother doesn’t have purple hair, you’ve just overridden the hair color attribute that you inherited from your mom.\n",
        "\n",
        "You also inherit, in a sense, your language from your parents. If your parents speak English, then you’ll also speak English. Now imagine you decide to learn a second language, like German. In this case you’ve extended your attributes because you’ve added an attribute that your parents don’t have."
      ]
    },
    {
      "cell_type": "markdown",
      "metadata": {
        "id": "AXDQ0nZrCDkw"
      },
      "source": [
        "### Dog Park Example\n",
        "\n",
        "Pretend for a moment that you’re at a dog park. There are many dogs of different breeds at the park, all engaging in various dog behaviors.\n",
        "\n",
        "Suppose now that you want to model the dog park with Python classes. The Dog class that you wrote in the previous section can distinguish dogs by name and age but not by breed.\n",
        "\n",
        "You could modify the Dog class in the editor window by adding a .breed attribute:"
      ]
    },
    {
      "cell_type": "code",
      "metadata": {
        "id": "dWmN88XKBwKf"
      },
      "source": [
        "class Dog:\n",
        "    species = \"Canis familiaris\"\n",
        "\n",
        "    def __init__(self, name, age, breed):\n",
        "        self.name = name\n",
        "        self.age = age\n",
        "        self.breed = breed\n",
        "\n",
        "    # Instance method\n",
        "    def description(self):\n",
        "        return f\"{self.name} is {self.age} years old\"\n",
        "\n",
        "    # Another instance method\n",
        "    def speak(self, sound):\n",
        "        return f\"{self.name} says {sound}\""
      ],
      "execution_count": null,
      "outputs": []
    },
    {
      "cell_type": "code",
      "metadata": {
        "id": "4xQppQ7bCIks"
      },
      "source": [
        "miles = Dog(\"Miles\", 4, \"Jack Russell Terrier\")\n",
        "buddy = Dog(\"Buddy\", 9, \"Dachshund\")\n",
        "jack = Dog(\"Jack\", 3, \"Bulldog\")\n",
        "jim = Dog(\"Jim\", 5, \"Bulldog\")"
      ],
      "execution_count": null,
      "outputs": []
    },
    {
      "cell_type": "markdown",
      "metadata": {
        "id": "Uso3kKKhCPnS"
      },
      "source": [
        "Each breed of dog has slightly different behaviors. For example, bulldogs have a low bark that sounds like woof, but dachshunds have a higher-pitched bark that sounds more like yap.\n",
        "\n",
        "Using just the Dog class, you must supply a string for the sound argument of .speak() every time you call it on a Dog instance:"
      ]
    },
    {
      "cell_type": "code",
      "metadata": {
        "colab": {
          "base_uri": "https://localhost:8080/",
          "height": 35
        },
        "id": "Ub6aFKfZCOWp",
        "outputId": "70fd54ee-cb01-4634-dee8-68f2ae4547fb"
      },
      "source": [
        "buddy.speak(\"Yap\")\n",
        "jim.speak(\"Woof\")"
      ],
      "execution_count": null,
      "outputs": [
        {
          "output_type": "execute_result",
          "data": {
            "application/vnd.google.colaboratory.intrinsic+json": {
              "type": "string"
            },
            "text/plain": [
              "'Jim says Woof'"
            ]
          },
          "metadata": {},
          "execution_count": 20
        }
      ]
    },
    {
      "cell_type": "markdown",
      "metadata": {
        "id": "_MYassINCkmv"
      },
      "source": [
        "## Parent Classes vs Child Classes\n",
        "\n",
        "Let’s create a child class for each of the three breeds mentioned above: Jack Russell Terrier, Dachshund, and Bulldog.\n",
        "\n",
        "For reference, here’s the full definition of the Dog class:"
      ]
    },
    {
      "cell_type": "code",
      "metadata": {
        "id": "xF0cmD4ICSTl"
      },
      "source": [
        "class Dog:\n",
        "    species = \"Canis familiaris\"\n",
        "\n",
        "    def __init__(self, name, age):\n",
        "        self.name = name\n",
        "        self.age = age\n",
        "\n",
        "    def __str__(self):\n",
        "        return f\"{self.name} is {self.age} years old\"\n",
        "\n",
        "    def speak(self, sound):\n",
        "        return f\"{self.name} says {sound}\""
      ],
      "execution_count": null,
      "outputs": []
    },
    {
      "cell_type": "markdown",
      "metadata": {
        "id": "qMgmtHk_CpgG"
      },
      "source": [
        "Remember, to create a child class, you create new class with its own name and then put the name of the parent class in parentheses."
      ]
    },
    {
      "cell_type": "code",
      "metadata": {
        "id": "SZJyXvUICn96"
      },
      "source": [
        "class JackRussellTerrier(Dog):\n",
        "    pass\n",
        "\n",
        "class Dachshund(Dog):\n",
        "    pass\n",
        "\n",
        "class Bulldog(Dog):\n",
        "    pass"
      ],
      "execution_count": null,
      "outputs": []
    },
    {
      "cell_type": "markdown",
      "metadata": {
        "id": "QD7PuUg9CvyM"
      },
      "source": [
        "With the child classes defined, you can now instantiate some dogs of specific breeds in the interactive window:"
      ]
    },
    {
      "cell_type": "code",
      "metadata": {
        "id": "iFiVsS9aCtRG"
      },
      "source": [
        "miles = JackRussellTerrier(\"Miles\", 4)"
      ],
      "execution_count": null,
      "outputs": []
    },
    {
      "cell_type": "code",
      "metadata": {
        "id": "0Pu3WzPiCx-i"
      },
      "source": [
        "buddy = Dachshund(\"Buddy\", 9)\n",
        "jack = Bulldog(\"Jack\", 3)\n",
        "jim = Bulldog(\"Jim\", 5)"
      ],
      "execution_count": null,
      "outputs": []
    },
    {
      "cell_type": "markdown",
      "metadata": {
        "id": "ocoPqgXoC2M1"
      },
      "source": [
        "Instances of child classes inherit all of the attributes and methods of the parent class:"
      ]
    },
    {
      "cell_type": "code",
      "metadata": {
        "colab": {
          "base_uri": "https://localhost:8080/",
          "height": 35
        },
        "id": "5_6P9mXdC0dx",
        "outputId": "9e8d3671-fcbf-4aa5-ef31-94ebd3e65195"
      },
      "source": [
        "miles.species"
      ],
      "execution_count": null,
      "outputs": [
        {
          "output_type": "execute_result",
          "data": {
            "application/vnd.google.colaboratory.intrinsic+json": {
              "type": "string"
            },
            "text/plain": [
              "'Canis familiaris'"
            ]
          },
          "metadata": {},
          "execution_count": 25
        }
      ]
    },
    {
      "cell_type": "code",
      "metadata": {
        "colab": {
          "base_uri": "https://localhost:8080/",
          "height": 35
        },
        "id": "6O-Q5t2hC508",
        "outputId": "e6b20e29-290d-4a01-8e64-5f0b5d224115"
      },
      "source": [
        "buddy.name"
      ],
      "execution_count": null,
      "outputs": [
        {
          "output_type": "execute_result",
          "data": {
            "application/vnd.google.colaboratory.intrinsic+json": {
              "type": "string"
            },
            "text/plain": [
              "'Buddy'"
            ]
          },
          "metadata": {},
          "execution_count": 26
        }
      ]
    },
    {
      "cell_type": "code",
      "metadata": {
        "colab": {
          "base_uri": "https://localhost:8080/"
        },
        "id": "xIR59CmqC7Gj",
        "outputId": "e14a1bd9-46ca-476f-b77e-45d235155378"
      },
      "source": [
        "print(jack)"
      ],
      "execution_count": null,
      "outputs": [
        {
          "output_type": "stream",
          "name": "stdout",
          "text": [
            "Jack is 3 years old\n"
          ]
        }
      ]
    },
    {
      "cell_type": "code",
      "metadata": {
        "colab": {
          "base_uri": "https://localhost:8080/",
          "height": 35
        },
        "id": "ScCMHfB8C8G_",
        "outputId": "c698bf95-ca54-4958-97b1-288a9be7ae92"
      },
      "source": [
        "jim.speak(\"Woof\")"
      ],
      "execution_count": null,
      "outputs": [
        {
          "output_type": "execute_result",
          "data": {
            "application/vnd.google.colaboratory.intrinsic+json": {
              "type": "string"
            },
            "text/plain": [
              "'Jim says Woof'"
            ]
          },
          "metadata": {},
          "execution_count": 28
        }
      ]
    },
    {
      "cell_type": "markdown",
      "metadata": {
        "id": "O7KOa8kPDBRf"
      },
      "source": [
        "## Extend the Functionality of a Parent Class\n",
        "\n",
        "Since different breeds of dogs have slightly different barks, you want to provide a default value for the sound argument of their respective .speak() methods. To do this, you need to override .speak() in the class definition for each breed.\n",
        "\n",
        "To override a method defined on the parent class, you define a method with the same name on the child class. Here’s what that looks like for the JackRussellTerrier class:"
      ]
    },
    {
      "cell_type": "code",
      "metadata": {
        "id": "_b012_RaC9O6"
      },
      "source": [
        "class JackRussellTerrier(Dog):\n",
        "    def speak(self, sound=\"Arf\"):\n",
        "        return f\"{self.name} says {sound}\""
      ],
      "execution_count": null,
      "outputs": []
    },
    {
      "cell_type": "markdown",
      "metadata": {
        "id": "mDvh9Ba3DGSB"
      },
      "source": [
        "Now .speak() is defined on the JackRussellTerrier class with the default argument for sound set to \"Arf\"."
      ]
    },
    {
      "cell_type": "code",
      "metadata": {
        "colab": {
          "base_uri": "https://localhost:8080/",
          "height": 35
        },
        "id": "8bfTbWoBDECf",
        "outputId": "30d14e45-f3a4-443e-cddb-52195b3314ee"
      },
      "source": [
        "miles = JackRussellTerrier(\"Miles\", 4)\n",
        "miles.speak()"
      ],
      "execution_count": null,
      "outputs": [
        {
          "output_type": "execute_result",
          "data": {
            "application/vnd.google.colaboratory.intrinsic+json": {
              "type": "string"
            },
            "text/plain": [
              "'Miles says Arf'"
            ]
          },
          "metadata": {},
          "execution_count": 30
        }
      ]
    },
    {
      "cell_type": "code",
      "metadata": {
        "colab": {
          "base_uri": "https://localhost:8080/",
          "height": 35
        },
        "id": "m6z_p3-qDI-w",
        "outputId": "7ae86fd5-2286-42ad-8141-4649808d64df"
      },
      "source": [
        "miles.speak(\"Grrr\")"
      ],
      "execution_count": null,
      "outputs": [
        {
          "output_type": "execute_result",
          "data": {
            "application/vnd.google.colaboratory.intrinsic+json": {
              "type": "string"
            },
            "text/plain": [
              "'Miles says Grrr'"
            ]
          },
          "metadata": {},
          "execution_count": 31
        }
      ]
    }
  ]
}